{
 "cells": [
  {
   "cell_type": "markdown",
   "metadata": {},
   "source": [
    "## Deep learning workshop"
   ]
  },
  {
   "cell_type": "markdown",
   "metadata": {},
   "source": [
    "\"There's a lot more opportunity for ML than there is ML expertise in the world\" (\\*) - [Jeff Dean TF Summit 2018][jeff-quote]\n",
    "\n",
    "<a href=\"https://youtu.be/kSa3UObNS6o?t=23m30s\">\n",
    "    <img src=\"https://img.youtube.com/vi/kSa3UObNS6o/maxresdefault.jpg\" width=\"400px\" />\n",
    "</a>\n",
    "\n",
    "(\\*) In the context of automating model creation and replacing ML expertise with more computations!\n",
    "\n",
    "[jeff-quote]:https://youtu.be/kSa3UObNS6o?t=23m30s"
   ]
  },
  {
   "cell_type": "markdown",
   "metadata": {},
   "source": [
    "**Goals for today**\n",
    "\n",
    "* Experiment with deep learning in a visual way\n",
    "* Learn more about basic building blocks\n",
    "* Understand steps to build a network in PyTorch"
   ]
  },
  {
   "cell_type": "markdown",
   "metadata": {},
   "source": [
    "**What we will build today**\n",
    "\n",
    "* Network that recognizes handwritten digits and drawings\n",
    "* Create a deep model for your own task (webcam/other set of images)"
   ]
  },
  {
   "cell_type": "markdown",
   "metadata": {},
   "source": [
    "**High-level questions**\n",
    "\n",
    "Start with\n",
    "\n",
    "* How do neural networks learn - building blocks\n",
    "* How can they solve such complex tasks - main ideas\n",
    "* How to build and train one in PyTorch - technical aspects\n",
    "\n",
    "Later today\n",
    "\n",
    "* How can they work with images - convnets\n",
    "* Can we reuse what's been learned on other tasks - transfer learning\n",
    "* What can go wrong - overfitting, interpretability"
   ]
  },
  {
   "cell_type": "markdown",
   "metadata": {},
   "source": [
    "**Workshop material**\n",
    "\n",
    "Interactive notebooks to experiment with the material / write notes"
   ]
  }
 ],
 "metadata": {
  "kernelspec": {
   "display_name": "Python 3",
   "language": "python",
   "name": "python3"
  },
  "language_info": {
   "codemirror_mode": {
    "name": "ipython",
    "version": 3
   },
   "file_extension": ".py",
   "mimetype": "text/x-python",
   "name": "python",
   "nbconvert_exporter": "python",
   "pygments_lexer": "ipython3",
   "version": "3.6.4"
  }
 },
 "nbformat": 4,
 "nbformat_minor": 2
}
